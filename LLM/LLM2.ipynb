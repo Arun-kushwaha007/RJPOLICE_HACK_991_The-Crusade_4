{
 "cells": [
  {
   "cell_type": "code",
   "execution_count": null,
   "metadata": {},
   "outputs": [],
   "source": [
    "import pandas as pd\n",
    "from sklearn.model_selection import train_test_split\n",
    "from sklearn.metrics import accuracy_score\n",
    "from transformers import BertTokenizer, BertForSequenceClassification, AdamW\n",
    "from torch.utils.data import DataLoader, TensorDataset, random_split\n",
    "import torch\n",
    "from tqdm import tqdm"
   ]
  },
  {
   "cell_type": "code",
   "execution_count": null,
   "metadata": {},
   "outputs": [],
   "source": [
    "data = pd.read_csv('FIR_DATASET(updated).csv')"
   ]
  },
  {
   "cell_type": "code",
   "execution_count": null,
   "metadata": {},
   "outputs": [],
   "source": [
    "train_data, test_data = train_test_split(data, test_size=0.2, random_state=42)\n"
   ]
  },
  {
   "cell_type": "code",
   "execution_count": null,
   "metadata": {},
   "outputs": [],
   "source": [
    "tokenizer = BertTokenizer.from_pretrained('bert-base-uncased')\n",
    "model = BertForSequenceClassification.from_pretrained('bert-base-uncased', num_labels=len(data['section'].unique()))\n"
   ]
  },
  {
   "cell_type": "code",
   "execution_count": null,
   "metadata": {},
   "outputs": [],
   "source": [
    "train_data['Description'] = train_data['Description'].astype(str)\n"
   ]
  },
  {
   "cell_type": "code",
   "execution_count": null,
   "metadata": {},
   "outputs": [],
   "source": [
    "train_encodings = tokenizer(train_data['Description'].tolist(), padding=True, truncation=True, return_tensors='pt')\n",
    "train_labels = torch.tensor(train_data['section'].astype('category').cat.codes.tolist())"
   ]
  },
  {
   "cell_type": "code",
   "execution_count": null,
   "metadata": {},
   "outputs": [],
   "source": [
    "test_encodings = tokenizer(test_data['Description'].tolist(), padding=True, truncation=True, return_tensors='pt')\n",
    "test_labels = torch.tensor(test_data['section'].astype('category').cat.codes.tolist())\n"
   ]
  },
  {
   "cell_type": "code",
   "execution_count": null,
   "metadata": {},
   "outputs": [],
   "source": [
    "train_dataset = TensorDataset(train_encodings['input_ids'], train_encodings['attention_mask'], train_labels)\n",
    "train_loader = DataLoader(train_dataset, batch_size=8, shuffle=True)\n"
   ]
  },
  {
   "cell_type": "code",
   "execution_count": null,
   "metadata": {},
   "outputs": [],
   "source": [
    "test_dataset = TensorDataset(test_encodings['input_ids'], test_encodings['attention_mask'], test_labels)\n",
    "test_loader = DataLoader(test_dataset, batch_size=8, shuffle=False)\n"
   ]
  },
  {
   "cell_type": "code",
   "execution_count": null,
   "metadata": {},
   "outputs": [],
   "source": [
    "optimizer = AdamW(model.parameters(), lr=2e-5)\n"
   ]
  },
  {
   "cell_type": "code",
   "execution_count": null,
   "metadata": {},
   "outputs": [],
   "source": [
    "device = torch.device('cuda' if torch.cuda.is_available() else 'cpu')\n",
    "model.to(device)\n"
   ]
  },
  {
   "cell_type": "code",
   "execution_count": null,
   "metadata": {},
   "outputs": [],
   "source": [
    "for epoch in range(3):\n",
    "    model.train()\n",
    "    for batch in tqdm(train_loader, desc=f'Epoch {epoch + 1}'):\n",
    "        input_ids = batch[0].to(device)\n",
    "        attention_mask = batch[1].to(device)\n",
    "        labels = batch[2].to(device)\n",
    "\n",
    "        optimizer.zero_grad()\n",
    "        outputs = model(input_ids, attention_mask=attention_mask, labels=labels)\n",
    "        loss = outputs.loss\n",
    "        loss.backward()\n",
    "        optimizer.step()"
   ]
  },
  {
   "cell_type": "code",
   "execution_count": null,
   "metadata": {},
   "outputs": [],
   "source": [
    "model.eval()\n",
    "all_preds = []\n",
    "all_labels = []"
   ]
  },
  {
   "cell_type": "code",
   "execution_count": null,
   "metadata": {},
   "outputs": [],
   "source": [
    "with torch.no_grad():\n",
    "    for batch in tqdm(test_loader, desc='Testing'):\n",
    "        input_ids = batch[0].to(device)\n",
    "        attention_mask = batch[1].to(device)\n",
    "        labels = batch[2].to(device)\n",
    "\n",
    "        outputs = model(input_ids, attention_mask=attention_mask)\n",
    "        logits = outputs.logits\n",
    "        preds = torch.argmax(logits, dim=1).cpu().numpy()\n",
    "\n",
    "        all_preds.extend(preds)\n",
    "        all_labels.extend(labels.cpu().numpy())\n",
    "\n",
    "\n",
    "\n",
    "\n"
   ]
  },
  {
   "cell_type": "code",
   "execution_count": null,
   "metadata": {},
   "outputs": [],
   "source": [
    "accuracy = accuracy_score(all_labels, all_preds)\n",
    "print(f'Test Accuracy: {accuracy:.4f}')\n"
   ]
  },
  {
   "cell_type": "code",
   "execution_count": null,
   "metadata": {},
   "outputs": [],
   "source": [
    "def suggest_section(complaint_description):\n",
    "    tokenized_description = tokenizer(complaint_description, padding=True, truncation=True, return_tensors='pt')\n",
    "    input_ids = tokenized_description['input_ids'].to(device)\n",
    "    attention_mask = tokenized_description['attention_mask'].to(device)\n",
    "\n",
    "    model.eval()\n",
    "    with torch.no_grad():\n",
    "        output = model(input_ids, attention_mask=attention_mask)\n",
    "        logits = output.logits\n",
    "        predicted_class = torch.argmax(logits, dim=1).item()\n",
    "\n",
    "    # Convert the predicted class back to the original section label\n",
    "    predicted_section = data['section'].unique()[predicted_class]\n",
    "    return predicted_section\n"
   ]
  },
  {
   "cell_type": "code",
   "execution_count": null,
   "metadata": {},
   "outputs": [],
   "source": [
    "# Example usage\n",
    "complaint_description = \"The suspect stole my wallet and assaulted me.\"\n",
    "suggested_section = suggest_section(complaint_description)\n",
    "print(\"Suggested Section:\", suggested_section)\n"
   ]
  },
  {
   "cell_type": "code",
   "execution_count": null,
   "metadata": {},
   "outputs": [],
   "source": [
    "def generate_fir(complainant_name, father_name, address, phone_number, email,\n",
    "                 place_of_occurrence, date_of_occurrence, property_description,\n",
    "                 accused_description, witness_details, complaint):\n",
    "\n",
    "    # Fetch additional information from the dataset based on the suggested section\n",
    "    section_info = data[data['section'] == suggested_section].iloc[0]\n",
    "    bailable = section_info['Bailable']\n",
    "    cognizable = section_info['Cognizable']\n",
    "    court = section_info['Court']\n",
    "    punishment = section_info['Punishment']\n",
    "    \n",
    "    # Use BERT to fill the nature of the offense\n",
    "    offense_nature = suggest_section(complaint)\n",
    "\n",
    "    # Create the FIR template\n",
    "    fir_template = f\"\"\"Police Station: [Police Station]\n",
    "District: [District]\n",
    "\n",
    "1. Personal details of the Complainant / Informant:\n",
    "(a) Name: {complainant_name}\n",
    "(b) Father's / Husband's Name: {father_name}\n",
    "(c) Address: {address}\n",
    "(d) Phone number & Fax: {phone_number}\n",
    "(e) Email: {email}\n",
    "\n",
    "2. Place of Occurrence: {place_of_occurrence}\n",
    "\n",
    "3. Date and Hour of Occurrence: {date_of_occurrence}\n",
    "\n",
    "4. Offence:\n",
    "(a) Nature of the offence: {offense_nature}  \n",
    "(b) Section: {suggested_section}  \n",
    "(c) Particulars of the property: {property_description}\n",
    "\n",
    "5. Description of the accused: {accused_description} \n",
    "\n",
    "6. Additional Section Information:\n",
    "   - Bailable: {bailable}\n",
    "   - Cognizable: {cognizable}\n",
    "   - Court: {court}\n",
    "   - Punishment: {punishment}\n",
    "\n",
    "7. Details of witnesses (if any): {witness_details}\n",
    "\n",
    "8. Complaint: {complaint}\n",
    "\"\"\"\n",
    "\n",
    "    # Return the generated FIR\n",
    "    return fir_template"
   ]
  },
  {
   "cell_type": "code",
   "execution_count": null,
   "metadata": {},
   "outputs": [],
   "source": [
    "fir_text = generate_fir(\"John Doe\", \"Mr. Doe\", \"123 Main St\", \"555-1234\", \"john@example.com\",\n",
    "                        \"Public Park\", \"2024-01-15 15:30:00\", \"Stolen wallet and assault\",\n",
    "                        \"Tall person, wearing a black jacket\", \"Witness A, Witness B\",\n",
    "                        \"Reporting the theft and assault incident.\")\n",
    "print(fir_text)"
   ]
  },
  {
   "cell_type": "code",
   "execution_count": null,
   "metadata": {},
   "outputs": [],
   "source": []
  },
  {
   "cell_type": "code",
   "execution_count": null,
   "metadata": {},
   "outputs": [],
   "source": []
  }
 ],
 "metadata": {
  "kernelspec": {
   "display_name": "Python 3",
   "language": "python",
   "name": "python3"
  },
  "language_info": {
   "codemirror_mode": {
    "name": "ipython",
    "version": 3
   },
   "file_extension": ".py",
   "mimetype": "text/x-python",
   "name": "python",
   "nbconvert_exporter": "python",
   "pygments_lexer": "ipython3",
   "version": "3.10.13"
  }
 },
 "nbformat": 4,
 "nbformat_minor": 2
}
